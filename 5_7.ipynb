{
 "cells": [
  {
   "cell_type": "markdown",
   "metadata": {},
   "source": [
    "# Вариант 3\n",
    "## Практическое задание 5\n"
   ]
  },
  {
   "cell_type": "markdown",
   "metadata": {},
   "source": [
    "###  Часть 1\n",
    "Загрузите в Питоне данные, соответствующие вашему варианту. Возможно, будет\n",
    "удобнее воспользоваться библиотекой pandas, в частности функцией read_csv. Некоторые записи в данных могут иметь неправильный формат, поэтому сначала файл с\n",
    "данными придется преобразовать. В процессе преобразовании можно проигнорировать не более 1% строк, в которых указана дата (если будете удалять, напечатайте\n",
    "долю удаленных строк). Строки, в которых дата не указана, нужно удалить.\n",
    "\n",
    "Имеем дело со строками вида:\n",
    "\n",
    "202.32.92.47 - - [01/Jun/1995:00:00:59 -0600] \"GET /~scottp/publish.html\" 200 271\n",
    "\n",
    "[Thu Jun  1 09:23:39 1995] httpd: send aborted for 202.32.92.47"
   ]
  },
  {
   "cell_type": "code",
   "execution_count": 307,
   "metadata": {},
   "outputs": [],
   "source": [
    "import scipy as sc\n",
    "from datetime import datetime\n",
    "import pandas as pd\n",
    "import numpy as np\n",
    "import scipy.stats as sps\n",
    "import matplotlib.pyplot as plt\n",
    "\n",
    "%matplotlib inline"
   ]
  },
  {
   "cell_type": "code",
   "execution_count": 312,
   "metadata": {
    "scrolled": true
   },
   "outputs": [],
   "source": [
    "DataFrameAccessed = pd.read_csv('./usask_access_log',delimiter=None,sep='- -',\n",
    "                                engine='python',)\n",
    "DataFrameAborted = pd.read_csv(\"./UofS_abort_log\", delimiter=None, sep='httpd: send aborted for', \n",
    "                               engine='python')\n",
    "DataFrameAborted.columns = ('string', 'adresses')\n",
    "DataFrameAccessed.columns = ('adresses', 'string')\n",
    "df = DataFrameAborted+DataFrameAccessed"
   ]
  },
  {
   "cell_type": "code",
   "execution_count": 344,
   "metadata": {},
   "outputs": [
    {
     "data": {
      "text/html": [
       "<div>\n",
       "<style>\n",
       "    .dataframe thead tr:only-child th {\n",
       "        text-align: right;\n",
       "    }\n",
       "\n",
       "    .dataframe thead th {\n",
       "        text-align: left;\n",
       "    }\n",
       "\n",
       "    .dataframe tbody tr th {\n",
       "        vertical-align: top;\n",
       "    }\n",
       "</style>\n",
       "<table border=\"1\" class=\"dataframe\">\n",
       "  <thead>\n",
       "    <tr style=\"text-align: right;\">\n",
       "      <th></th>\n",
       "      <th>string</th>\n",
       "      <th>adresses</th>\n",
       "      <th>timestamp</th>\n",
       "      <th>Restring</th>\n",
       "      <th>shiftedStamps</th>\n",
       "    </tr>\n",
       "  </thead>\n",
       "  <tbody>\n",
       "    <tr>\n",
       "      <th>0</th>\n",
       "      <td>[Thu Jun  1 08:52:12 1995]</td>\n",
       "      <td>yak-ts1-p19.wolfe.net</td>\n",
       "      <td>801982332</td>\n",
       "      <td>1/Jun/1995:08:52:12</td>\n",
       "      <td>0</td>\n",
       "    </tr>\n",
       "    <tr>\n",
       "      <th>1</th>\n",
       "      <td>[Thu Jun  1 09:23:39 1995]</td>\n",
       "      <td>UNKNOWN_HOST</td>\n",
       "      <td>801984219</td>\n",
       "      <td>1/Jun/1995:09:23:39</td>\n",
       "      <td>1887</td>\n",
       "    </tr>\n",
       "    <tr>\n",
       "      <th>2</th>\n",
       "      <td>[Thu Jun  1 09:24:32 1995]</td>\n",
       "      <td>edu219.usask.ca</td>\n",
       "      <td>801984272</td>\n",
       "      <td>1/Jun/1995:09:24:32</td>\n",
       "      <td>1940</td>\n",
       "    </tr>\n",
       "    <tr>\n",
       "      <th>3</th>\n",
       "      <td>[Thu Jun  1 09:24:43 1995]</td>\n",
       "      <td>edu219.usask.ca</td>\n",
       "      <td>801984283</td>\n",
       "      <td>1/Jun/1995:09:24:43</td>\n",
       "      <td>1951</td>\n",
       "    </tr>\n",
       "    <tr>\n",
       "      <th>4</th>\n",
       "      <td>[Thu Jun  1 09:41:32 1995]</td>\n",
       "      <td>146.229.17.105</td>\n",
       "      <td>801985292</td>\n",
       "      <td>1/Jun/1995:09:41:32</td>\n",
       "      <td>2960</td>\n",
       "    </tr>\n",
       "    <tr>\n",
       "      <th>5</th>\n",
       "      <td>[Thu Jun  1 09:41:32 1995]</td>\n",
       "      <td>146.229.17.105</td>\n",
       "      <td>801985292</td>\n",
       "      <td>1/Jun/1995:09:41:32</td>\n",
       "      <td>2960</td>\n",
       "    </tr>\n",
       "    <tr>\n",
       "      <th>6</th>\n",
       "      <td>[Thu Jun  1 09:41:34 1995]</td>\n",
       "      <td>146.229.17.105</td>\n",
       "      <td>801985294</td>\n",
       "      <td>1/Jun/1995:09:41:34</td>\n",
       "      <td>2962</td>\n",
       "    </tr>\n",
       "    <tr>\n",
       "      <th>7</th>\n",
       "      <td>[Thu Jun  1 09:41:34 1995]</td>\n",
       "      <td>146.229.17.105</td>\n",
       "      <td>801985294</td>\n",
       "      <td>1/Jun/1995:09:41:34</td>\n",
       "      <td>2962</td>\n",
       "    </tr>\n",
       "    <tr>\n",
       "      <th>8</th>\n",
       "      <td>[Thu Jun  1 09:42:17 1995]</td>\n",
       "      <td>146.229.17.105</td>\n",
       "      <td>801985337</td>\n",
       "      <td>1/Jun/1995:09:42:17</td>\n",
       "      <td>3005</td>\n",
       "    </tr>\n",
       "    <tr>\n",
       "      <th>9</th>\n",
       "      <td>[Thu Jun  1 09:42:17 1995]</td>\n",
       "      <td>146.229.17.105</td>\n",
       "      <td>801985337</td>\n",
       "      <td>1/Jun/1995:09:42:17</td>\n",
       "      <td>3005</td>\n",
       "    </tr>\n",
       "  </tbody>\n",
       "</table>\n",
       "</div>"
      ],
      "text/plain": [
       "                        string                adresses  timestamp  \\\n",
       "0  [Thu Jun  1 08:52:12 1995]    yak-ts1-p19.wolfe.net  801982332   \n",
       "1  [Thu Jun  1 09:23:39 1995]             UNKNOWN_HOST  801984219   \n",
       "2  [Thu Jun  1 09:24:32 1995]          edu219.usask.ca  801984272   \n",
       "3  [Thu Jun  1 09:24:43 1995]          edu219.usask.ca  801984283   \n",
       "4  [Thu Jun  1 09:41:32 1995]           146.229.17.105  801985292   \n",
       "5  [Thu Jun  1 09:41:32 1995]           146.229.17.105  801985292   \n",
       "6  [Thu Jun  1 09:41:34 1995]           146.229.17.105  801985294   \n",
       "7  [Thu Jun  1 09:41:34 1995]           146.229.17.105  801985294   \n",
       "8  [Thu Jun  1 09:42:17 1995]           146.229.17.105  801985337   \n",
       "9  [Thu Jun  1 09:42:17 1995]           146.229.17.105  801985337   \n",
       "\n",
       "               Restring  shiftedStamps  \n",
       "0   1/Jun/1995:08:52:12              0  \n",
       "1   1/Jun/1995:09:23:39           1887  \n",
       "2   1/Jun/1995:09:24:32           1940  \n",
       "3   1/Jun/1995:09:24:43           1951  \n",
       "4   1/Jun/1995:09:41:32           2960  \n",
       "5   1/Jun/1995:09:41:32           2960  \n",
       "6   1/Jun/1995:09:41:34           2962  \n",
       "7   1/Jun/1995:09:41:34           2962  \n",
       "8   1/Jun/1995:09:42:17           3005  \n",
       "9   1/Jun/1995:09:42:17           3005  "
      ]
     },
     "execution_count": 344,
     "metadata": {},
     "output_type": "execute_result"
    }
   ],
   "source": [
    "df.head(10)"
   ]
  },
  {
   "cell_type": "markdown",
   "metadata": {},
   "source": [
    "### Часть 2\n",
    "Переведите дату в timestamp-число с помощью библиотеки datetime. Например, дата\n",
    "24/Oct/1994:13:41:41 преобразуется в число 782995301 с помощью кода\n",
    "from datetime import datetime\n",
    "datetime.strptime(\"24/Oct/1994:13:41:41\", \"%d/%b/%Y:%H:%M:%S\").timestamp()\n",
    "Подробнее читайте в документациях к библиотекам datetime и time."
   ]
  },
  {
   "cell_type": "code",
   "execution_count": 345,
   "metadata": {},
   "outputs": [],
   "source": [
    "def StringParser(string):\n",
    "    if \"- -\" in string:\n",
    "        i = 0\n",
    "        while not(string[i] is  '['):\n",
    "            i = i +1\n",
    "        j = i\n",
    "        while not(string[j] is ' '):\n",
    "            j = j+1\n",
    "        Restring = string[i+1:j]\n",
    "        timestamp = int(datetime.strptime(str(Restring), \"%d/%b/%Y:%H:%M:%S\").timestamp())\n",
    "        return timestamp, Restring\n",
    "    else:\n",
    "        try:\n",
    "            string = string[5:len(string)-1]\n",
    "            Month = string[0:3]\n",
    "            Day = string[4:6]\n",
    "            Hour = string[7:9]\n",
    "            Minute = string[10:12]\n",
    "            Second = string[13:15]\n",
    "            Year = string[16:-1]\n",
    "            Restring = Day+'/'+Month+\"/\"+Year+\":\"+Hour+\":\"+Minute+\":\"+Second\n",
    "            #print(Restring)\n",
    "            timestamp = int(datetime.strptime(str(Restring), \"%d/%b/%Y:%H:%M:%S\").timestamp())\n",
    "            return timestamp, Restring\n",
    "        except Exception:\n",
    "            print(Restring, \"ошибка представления!\\n\")\n",
    "            \n",
    "            \n",
    "def StringParserForNum(string):\n",
    "    try:\n",
    "        string = string[5:len(string)-1]\n",
    "        Month = string[0:3]\n",
    "        Day = string[4:6]\n",
    "        Hour = string[7:9]\n",
    "        Minute = string[10:12]\n",
    "        Second = string[13:15]\n",
    "        Year = string[16:-1]\n",
    "        Restring = Day+'/'+Month+\"/\"+Year+\":\"+Hour+\":\"+Minute+\":\"+Second\n",
    "        #print(Restring)\n",
    "        timestamp = int(datetime.strptime(str(Restring), \"%d/%b/%Y:%H:%M:%S\").timestamp())\n",
    "        return timestamp\n",
    "    except Exception:\n",
    "        print(string, \"ошибка представления!\\n\")"
   ]
  },
  {
   "cell_type": "code",
   "execution_count": 340,
   "metadata": {},
   "outputs": [],
   "source": [
    "\n",
    "# TS == Time Stamp\n",
    "df['timestamp'], df['Restring'] = zip(*df['string'].map(StringParser))"
   ]
  },
  {
   "cell_type": "code",
   "execution_count": 319,
   "metadata": {},
   "outputs": [
    {
     "name": "stdout",
     "output_type": "stream",
     "text": [
      "Проигнорировано меньше 1 процента.\n"
     ]
    }
   ],
   "source": [
    "Ignore_Coeff = len(df.drop(df.index[df['timestamp'] == False])) / (len(df)+1)\n",
    "if 1-Ignore_Coeff < 0.01:\n",
    "    print(\"Проигнорировано меньше 1 процента.\")\n",
    "else:\n",
    "    print(\"Ошибка!\")"
   ]
  },
  {
   "cell_type": "markdown",
   "metadata": {},
   "source": [
    "### Часть 3\n",
    "Запросы, происходящие в некоторые моменты времени, образуют пуассоновский процесс, смысл которого — количество запросов, обработанных сервером к текущему моменту времени. Нарисуйте графики траектории этого пуассоновского процесса за все время и за первые сутки. Нарисуйте так же аналогичные графики составного пуассоновского процесса, взяв в качестве значений количество байт (bytes in the reply).При построении графиков используйте код с семинара."
   ]
  },
  {
   "cell_type": "markdown",
   "metadata": {},
   "source": [
    "Отсортируем и вычтем минимальное время, чтобы было удобно строить графики."
   ]
  },
  {
   "cell_type": "code",
   "execution_count": 347,
   "metadata": {},
   "outputs": [],
   "source": [
    "df = df.sort_values(by='timestamp')\n",
    "#del df.Restring\n",
    "df['shiftedStamps'] = df.timestamp-np.min(df.timestamp)\n"
   ]
  },
  {
   "cell_type": "markdown",
   "metadata": {},
   "source": [
    "тут строим для первых записей."
   ]
  },
  {
   "cell_type": "code",
   "execution_count": 339,
   "metadata": {},
   "outputs": [
    {
     "data": {
      "image/png": "[encoded data removed]",
      "text/plain": [
       "<matplotlib.figure.Figure at 0x7f652324eb70>"
      ]
     },
     "metadata": {},
     "output_type": "display_data"
    }
   ],
   "source": [
    "plt.figure(figsize=(25, 16))\n",
    "for subplt, s in enumerate([10, 50, 100, 1000]):\n",
    "    a = np.cumsum(np.ones_like(df.shiftedStamps[:s].values))\n",
    "    plt.subplot(4, 1, subplt + 1)\n",
    "    cnt = len(df.shiftedStamps[:s].values) - 1\n",
    "    for i in range(cnt):\n",
    "        plt.hlines(a[i], df.shiftedStamps[0:s].values[i], \n",
    "                   df.shiftedStamps[0:s].values[i+1], \n",
    "                   lw=5, color='r')\n",
    "    plt.grid(ls='--')\n",
    "    plt.xticks(fontsize=20)\n",
    "    plt.xlabel('Time',fontsize=10)\n",
    "    plt.yticks(range(0, np.max(a), int(np.max(a))), fontsize=20)\n",
    "    plt.ylabel('Event Grid', fontsize=12)\n",
    "plt.show()"
   ]
  },
  {
   "cell_type": "markdown",
   "metadata": {},
   "source": [
    "Теперь построим аналогичные графики для первых суток"
   ]
  },
  {
   "cell_type": "code",
   "execution_count": 215,
   "metadata": {},
   "outputs": [
    {
     "name": "stdout",
     "output_type": "stream",
     "text": [
      "86005.0\n"
     ]
    }
   ],
   "source": [
    "a = datetime.strptime(\"01/Jun/1995:08:52:12\", \"%d/%b/%Y:%H:%M:%S\").timestamp()\n",
    "b = datetime.strptime(\"02/Jun/1995:08:45:37\", \"%d/%b/%Y:%H:%M:%S\").timestamp()\n",
    "c = b - a\n",
    "print(c)"
   ]
  },
  {
   "cell_type": "code",
   "execution_count": 341,
   "metadata": {},
   "outputs": [
    {
     "data": {
      "text/html": [
       "<div>\n",
       "<style>\n",
       "    .dataframe thead tr:only-child th {\n",
       "        text-align: right;\n",
       "    }\n",
       "\n",
       "    .dataframe thead th {\n",
       "        text-align: left;\n",
       "    }\n",
       "\n",
       "    .dataframe tbody tr th {\n",
       "        vertical-align: top;\n",
       "    }\n",
       "</style>\n",
       "<table border=\"1\" class=\"dataframe\">\n",
       "  <thead>\n",
       "    <tr style=\"text-align: right;\">\n",
       "      <th></th>\n",
       "      <th>string</th>\n",
       "      <th>adresses</th>\n",
       "      <th>timestamp</th>\n",
       "      <th>Restring</th>\n",
       "      <th>shiftedStamps</th>\n",
       "    </tr>\n",
       "  </thead>\n",
       "  <tbody>\n",
       "    <tr>\n",
       "      <th>0</th>\n",
       "      <td>[Thu Jun  1 08:52:12 1995]</td>\n",
       "      <td>yak-ts1-p19.wolfe.net</td>\n",
       "      <td>801982332</td>\n",
       "      <td>1/Jun/1995:08:52:12</td>\n",
       "      <td>0</td>\n",
       "    </tr>\n",
       "    <tr>\n",
       "      <th>1</th>\n",
       "      <td>[Thu Jun  1 09:23:39 1995]</td>\n",
       "      <td>UNKNOWN_HOST</td>\n",
       "      <td>801984219</td>\n",
       "      <td>1/Jun/1995:09:23:39</td>\n",
       "      <td>1887</td>\n",
       "    </tr>\n",
       "    <tr>\n",
       "      <th>2</th>\n",
       "      <td>[Thu Jun  1 09:24:32 1995]</td>\n",
       "      <td>edu219.usask.ca</td>\n",
       "      <td>801984272</td>\n",
       "      <td>1/Jun/1995:09:24:32</td>\n",
       "      <td>1940</td>\n",
       "    </tr>\n",
       "  </tbody>\n",
       "</table>\n",
       "</div>"
      ],
      "text/plain": [
       "                        string                adresses  timestamp  \\\n",
       "0  [Thu Jun  1 08:52:12 1995]    yak-ts1-p19.wolfe.net  801982332   \n",
       "1  [Thu Jun  1 09:23:39 1995]             UNKNOWN_HOST  801984219   \n",
       "2  [Thu Jun  1 09:24:32 1995]          edu219.usask.ca  801984272   \n",
       "\n",
       "               Restring  shiftedStamps  \n",
       "0   1/Jun/1995:08:52:12              0  \n",
       "1   1/Jun/1995:09:23:39           1887  \n",
       "2   1/Jun/1995:09:24:32           1940  "
      ]
     },
     "execution_count": 341,
     "metadata": {},
     "output_type": "execute_result"
    }
   ],
   "source": [
    "df.head(3)"
   ]
  },
  {
   "cell_type": "markdown",
   "metadata": {},
   "source": [
    "### Часть 4\n",
    "Проверьте полученный пуассоновский процесс на однородность за все время, а так\n",
    "же за некоторые другие интервалы времени (месяц, неделя, сутки, час). Имеются ли\n",
    "интервалы, на которых процесс однороден? Чтобы проверить корректность работы\n",
    "реализованных критериев, можно проверить их на сгенерированных данных. Код для\n",
    "генерации можно взять с семинара."
   ]
  },
  {
   "cell_type": "code",
   "execution_count": 255,
   "metadata": {},
   "outputs": [],
   "source": [
    "def f(shifts, n_basket):\n",
    "    min_shift, max_shift = np.min(shifts), np.max(shifts) + 1\n",
    "#     print(min_shift, max_shift)\n",
    "    partition = [min_shift + i * int((max_shift - min_shift) / n_basket) for i in range(n_basket)]\n",
    "    partition.append(max_shift)\n",
    "#     print(partition)\n",
    "    baskets = list(map(lambda i: np.sum((partition[i - 1] <= shifts) * (shifts < partition[i])), \n",
    "                       range(1, len(partition))))\n",
    "    return baskets\n",
    "def chi_square(shifts, n_basket):\n",
    "    n_basket = min(n_basket, len(shifts) // 5)\n",
    "    f_obs = f(shifts, n_basket)\n",
    "    f_exp = np.ones(n_basket) * len(shifts) / n_basket\n",
    "    return sps.chisquare(f_obs, f_exp)\n"
   ]
  },
  {
   "cell_type": "markdown",
   "metadata": {},
   "source": [
    "Проверим однородность как гипотезу при помощи критерия хи-квадрат (код взят с разлинчых семинаров)"
   ]
  },
  {
   "cell_type": "code",
   "execution_count": 342,
   "metadata": {},
   "outputs": [
    {
     "name": "stdout",
     "output_type": "stream",
     "text": [
      "Power_divergenceResult(statistic=113131.87315246002, pvalue=0.0)\n"
     ]
    }
   ],
   "source": [
    "kriteria = chi_square(df.shiftedStamps.values, 424242)\n",
    "print(kriteria)"
   ]
  },
  {
   "cell_type": "markdown",
   "metadata": {},
   "source": [
    "Так как получили, что p-value=0.0, то гипотеза об однородности отвергнута. \n",
    "Для недель и дня однородности точно не будет, так как днем многие люди не просто заходят в интернет, но и работают, учатся. Аналогично с неделями. С часами скорее всего наблюдать однородность будет реальнее, так как амплитуда проявляется меньше. "
   ]
  },
  {
   "cell_type": "markdown",
   "metadata": {},
   "source": [
    "### Часть 5\n",
    "Постройте оценку функции интенсивности следующим образом. Разбейте весь временной интервал на небольшие равные по длине интервалы с достаточным количеством событий в каждом интервале (например, интерваля длинною в час). На каждом\n",
    "интервале оцените значение интенсивности процесса, считая его однородным на дан-\n",
    "ном интервале. В какие моменты времени наблюдается наибольшая интенсивность?\n",
    "\n",
    "\n",
    "ОМП интен-и однородного пуассоновского процесса на интервале $[a, b]$:\n",
    "    $$\\theta^* = \\overline{X}$$"
   ]
  },
  {
   "cell_type": "code",
   "execution_count": null,
   "metadata": {},
   "outputs": [],
   "source": []
  }
 ],
 "metadata": {
  "kernelspec": {
   "display_name": "Python 3",
   "language": "python",
   "name": "python3"
  },
  "language_info": {
   "codemirror_mode": {
    "name": "ipython",
    "version": 3
   },
   "file_extension": ".py",
   "mimetype": "text/x-python",
   "name": "python",
   "nbconvert_exporter": "python",
   "pygments_lexer": "ipython3",
   "version": "3.5.2"
  }
 },
 "nbformat": 4,
 "nbformat_minor": 2
}
